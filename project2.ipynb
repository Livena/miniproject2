{
 "cells": [
  {
   "cell_type": "code",
   "execution_count": null,
   "id": "a667da75",
   "metadata": {},
   "outputs": [],
   "source": [
    "import os\n",
    "from tqdm.notebook import trange, tqdm\n",
    "import numpy as np\n",
    "import nibabel as nib\n",
    "import matplotlib.pyplot as plt\n",
    "from dipy.viz import regtools\n",
    "from nilearn.image import iter_img\n",
    "from nilearn.plotting import plot_stat_map, show\n",
    "from sklearn.decomposition import FastICA, PCA\n",
    "\n",
    "from nilearn import datasets\n",
    "from nilearn.input_data import NiftiMasker\n",
    "from scipy.stats import zscore\n",
    "from scipy.io import loadmat\n",
    "from tensorly.decomposition import parafac\n",
    "from IPython.display import Image\n",
    "\n",
    "save_results = 'results/'\n",
    "if not os.path.exists(save_results):\n",
    "    os.makedirs(save_results)\n",
    "    \n",
    "%matplotlib inline"
   ]
  },
  {
   "cell_type": "code",
   "execution_count": null,
   "id": "d5eccdd9",
   "metadata": {},
   "outputs": [],
   "source": [
    "!pip install tqdm\n",
    "!pip install fury\n",
    "!pip install nibabel\n",
    "!pip install nistats\n",
    "!pip install nilearn\n",
    "!pip install tensorly"
   ]
  },
  {
   "cell_type": "code",
   "execution_count": null,
   "id": "0a6369ec",
   "metadata": {},
   "outputs": [],
   "source": []
  }
 ],
 "metadata": {
  "kernelspec": {
   "display_name": "Python 3 (ipykernel)",
   "language": "python",
   "name": "python3"
  },
  "language_info": {
   "codemirror_mode": {
    "name": "ipython",
    "version": 3
   },
   "file_extension": ".py",
   "mimetype": "text/x-python",
   "name": "python",
   "nbconvert_exporter": "python",
   "pygments_lexer": "ipython3",
   "version": "3.8.13"
  }
 },
 "nbformat": 4,
 "nbformat_minor": 5
}
